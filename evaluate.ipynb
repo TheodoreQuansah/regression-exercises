{
 "cells": [
  {
   "cell_type": "code",
   "execution_count": 1,
   "id": "173740d7-db1b-4989-bc40-fda1d71de667",
   "metadata": {},
   "outputs": [],
   "source": [
    "import pandas as pd\n",
    "import numpy as np\n",
    "\n",
    "import seaborn as sns\n",
    "import matplotlib.pyplot as plt\n",
    "\n",
    "from math import sqrt\n",
    "from scipy import stats\n",
    "from sklearn.linear_model import LinearRegression\n",
    "from wrangle import train_val_test, clean_and_convert\n",
    "from evaluate import plot_residuals, regression_errors, baseline_mean_errors, better_than_baseline\n",
    "from sklearn.metrics import mean_squared_error, r2_score, explained_variance_score"
   ]
  },
  {
   "cell_type": "markdown",
   "id": "85e7efe7-49fc-44fd-ae35-764bf387637e",
   "metadata": {},
   "source": [
    "# Evaluating Regression Models"
   ]
  },
  {
   "cell_type": "markdown",
   "id": "0db30d25-a68d-4faa-843e-6b9b41c87cc7",
   "metadata": {},
   "source": [
    "1) Load your zillow dataset."
   ]
  },
  {
   "cell_type": "code",
   "execution_count": 2,
   "id": "934cabdd-076d-4033-8e89-e8e477ab0883",
   "metadata": {},
   "outputs": [
    {
     "data": {
      "text/html": [
       "<div>\n",
       "<style scoped>\n",
       "    .dataframe tbody tr th:only-of-type {\n",
       "        vertical-align: middle;\n",
       "    }\n",
       "\n",
       "    .dataframe tbody tr th {\n",
       "        vertical-align: top;\n",
       "    }\n",
       "\n",
       "    .dataframe thead th {\n",
       "        text-align: right;\n",
       "    }\n",
       "</style>\n",
       "<table border=\"1\" class=\"dataframe\">\n",
       "  <thead>\n",
       "    <tr style=\"text-align: right;\">\n",
       "      <th></th>\n",
       "      <th>bedrooms</th>\n",
       "      <th>bathrooms</th>\n",
       "      <th>squarefeet</th>\n",
       "      <th>tax_value</th>\n",
       "      <th>year_built</th>\n",
       "      <th>tax_amount</th>\n",
       "      <th>fips</th>\n",
       "      <th>bedrooms_bin</th>\n",
       "      <th>bathrooms_bin</th>\n",
       "      <th>squarefeet_bin</th>\n",
       "      <th>decades</th>\n",
       "    </tr>\n",
       "  </thead>\n",
       "  <tbody>\n",
       "    <tr>\n",
       "      <th>4</th>\n",
       "      <td>4</td>\n",
       "      <td>2</td>\n",
       "      <td>3633</td>\n",
       "      <td>296425</td>\n",
       "      <td>2005</td>\n",
       "      <td>6941</td>\n",
       "      <td>6037</td>\n",
       "      <td>6</td>\n",
       "      <td>3</td>\n",
       "      <td>4000</td>\n",
       "      <td>2010</td>\n",
       "    </tr>\n",
       "    <tr>\n",
       "      <th>6</th>\n",
       "      <td>3</td>\n",
       "      <td>4</td>\n",
       "      <td>1620</td>\n",
       "      <td>847770</td>\n",
       "      <td>2011</td>\n",
       "      <td>10244</td>\n",
       "      <td>6037</td>\n",
       "      <td>4</td>\n",
       "      <td>7</td>\n",
       "      <td>2000</td>\n",
       "      <td>2020</td>\n",
       "    </tr>\n",
       "    <tr>\n",
       "      <th>7</th>\n",
       "      <td>3</td>\n",
       "      <td>2</td>\n",
       "      <td>2077</td>\n",
       "      <td>646760</td>\n",
       "      <td>1926</td>\n",
       "      <td>7924</td>\n",
       "      <td>6037</td>\n",
       "      <td>4</td>\n",
       "      <td>3</td>\n",
       "      <td>2500</td>\n",
       "      <td>1930</td>\n",
       "    </tr>\n",
       "    <tr>\n",
       "      <th>11</th>\n",
       "      <td>0</td>\n",
       "      <td>0</td>\n",
       "      <td>1200</td>\n",
       "      <td>5328</td>\n",
       "      <td>1972</td>\n",
       "      <td>91</td>\n",
       "      <td>6037</td>\n",
       "      <td>2</td>\n",
       "      <td>1</td>\n",
       "      <td>1500</td>\n",
       "      <td>1980</td>\n",
       "    </tr>\n",
       "    <tr>\n",
       "      <th>14</th>\n",
       "      <td>0</td>\n",
       "      <td>0</td>\n",
       "      <td>171</td>\n",
       "      <td>6920</td>\n",
       "      <td>1973</td>\n",
       "      <td>255</td>\n",
       "      <td>6037</td>\n",
       "      <td>2</td>\n",
       "      <td>1</td>\n",
       "      <td>500</td>\n",
       "      <td>1980</td>\n",
       "    </tr>\n",
       "  </tbody>\n",
       "</table>\n",
       "</div>"
      ],
      "text/plain": [
       "    bedrooms  bathrooms  squarefeet  tax_value  year_built  tax_amount  fips  \\\n",
       "4          4          2        3633     296425        2005        6941  6037   \n",
       "6          3          4        1620     847770        2011       10244  6037   \n",
       "7          3          2        2077     646760        1926        7924  6037   \n",
       "11         0          0        1200       5328        1972          91  6037   \n",
       "14         0          0         171       6920        1973         255  6037   \n",
       "\n",
       "    bedrooms_bin  bathrooms_bin  squarefeet_bin  decades  \n",
       "4              6              3            4000     2010  \n",
       "6              4              7            2000     2020  \n",
       "7              4              3            2500     1930  \n",
       "11             2              1            1500     1980  \n",
       "14             2              1             500     1980  "
      ]
     },
     "execution_count": 2,
     "metadata": {},
     "output_type": "execute_result"
    }
   ],
   "source": [
    "df = clean_and_convert()\n",
    "df.head()"
   ]
  },
  {
   "cell_type": "code",
   "execution_count": 3,
   "id": "8a012a76-66af-454c-8428-dca8b6295628",
   "metadata": {},
   "outputs": [],
   "source": [
    "train, val, test = train_val_test(df)"
   ]
  },
  {
   "cell_type": "markdown",
   "id": "508e18de-187d-4d54-8b63-41926d033e40",
   "metadata": {},
   "source": [
    "2) Fit a linear regression model (ordinary least squares) and compute yhat, predictions of taxvaluedollarcnt using only calculatedfinishedsqft.  \n",
    "   Modify and add to the code above as necessary for it to work with the zillow dataset."
   ]
  },
  {
   "cell_type": "code",
   "execution_count": 4,
   "id": "6bd32ca6-70ab-48fb-8cb1-91ef61ab5468",
   "metadata": {},
   "outputs": [],
   "source": [
    "#defining the X and y train and val\n",
    "X_train = train[['squarefeet']]\n",
    "y_train = train.tax_value\n",
    "\n",
    "X_val = val[['squarefeet']]\n",
    "y_val = val.tax_value"
   ]
  },
  {
   "cell_type": "code",
   "execution_count": 5,
   "id": "0991693b-b28f-40f1-b996-47da17352ef8",
   "metadata": {},
   "outputs": [
    {
     "data": {
      "text/plain": [
       "324536.5"
      ]
     },
     "execution_count": 5,
     "metadata": {},
     "output_type": "execute_result"
    }
   ],
   "source": [
    "#defining the baseline \n",
    "y_baseline = y_train.median()\n",
    "y_baseline"
   ]
  },
  {
   "cell_type": "code",
   "execution_count": 6,
   "id": "16cb0443-a548-4ca4-af30-c000ec054e59",
   "metadata": {
    "scrolled": true
   },
   "outputs": [
    {
     "data": {
      "text/html": [
       "<div>\n",
       "<style scoped>\n",
       "    .dataframe tbody tr th:only-of-type {\n",
       "        vertical-align: middle;\n",
       "    }\n",
       "\n",
       "    .dataframe tbody tr th {\n",
       "        vertical-align: top;\n",
       "    }\n",
       "\n",
       "    .dataframe thead th {\n",
       "        text-align: right;\n",
       "    }\n",
       "</style>\n",
       "<table border=\"1\" class=\"dataframe\">\n",
       "  <thead>\n",
       "    <tr style=\"text-align: right;\">\n",
       "      <th></th>\n",
       "      <th>y_actual</th>\n",
       "      <th>y_baseline</th>\n",
       "    </tr>\n",
       "  </thead>\n",
       "  <tbody>\n",
       "    <tr>\n",
       "      <th>34469</th>\n",
       "      <td>131067</td>\n",
       "      <td>324536.5</td>\n",
       "    </tr>\n",
       "    <tr>\n",
       "      <th>857921</th>\n",
       "      <td>209578</td>\n",
       "      <td>324536.5</td>\n",
       "    </tr>\n",
       "    <tr>\n",
       "      <th>1259741</th>\n",
       "      <td>397364</td>\n",
       "      <td>324536.5</td>\n",
       "    </tr>\n",
       "    <tr>\n",
       "      <th>1094500</th>\n",
       "      <td>99366</td>\n",
       "      <td>324536.5</td>\n",
       "    </tr>\n",
       "    <tr>\n",
       "      <th>1685666</th>\n",
       "      <td>76733</td>\n",
       "      <td>324536.5</td>\n",
       "    </tr>\n",
       "  </tbody>\n",
       "</table>\n",
       "</div>"
      ],
      "text/plain": [
       "         y_actual  y_baseline\n",
       "34469      131067    324536.5\n",
       "857921     209578    324536.5\n",
       "1259741    397364    324536.5\n",
       "1094500     99366    324536.5\n",
       "1685666     76733    324536.5"
      ]
     },
     "execution_count": 6,
     "metadata": {},
     "output_type": "execute_result"
    }
   ],
   "source": [
    "#creating a dataframe to hold y_actual and y_baseline\n",
    "preds = pd.DataFrame({'y_actual': y_train,\n",
    "              'y_baseline': y_baseline})\n",
    "\n",
    "preds.head()"
   ]
  },
  {
   "cell_type": "code",
   "execution_count": 7,
   "id": "370bf244-55a1-48d8-8946-daae01a6a1d7",
   "metadata": {},
   "outputs": [],
   "source": [
    "#fitting the model on the X and y train\n",
    "lm = LinearRegression()\n",
    "lm.fit(X_train, y_train)\n",
    "\n",
    "#creating a column for the y predictions\n",
    "preds['y_hat'] = lm.predict(X_train)"
   ]
  },
  {
   "cell_type": "code",
   "execution_count": 8,
   "id": "bfc91f4a-915e-402e-8317-42e379bf75e7",
   "metadata": {},
   "outputs": [
    {
     "data": {
      "text/plain": [
       "386001.6879146049"
      ]
     },
     "execution_count": 8,
     "metadata": {},
     "output_type": "execute_result"
    }
   ],
   "source": [
    "#evaluating the rsme_model\n",
    "rmse_model = sqrt(mean_squared_error(preds['y_actual'], preds['y_hat']))\n",
    "rmse_model"
   ]
  },
  {
   "cell_type": "code",
   "execution_count": 9,
   "id": "86798477-4a4d-44a3-8e2e-82e74cd51414",
   "metadata": {},
   "outputs": [],
   "source": [
    "#creating a y_hat residuals column\n",
    "preds['y_hat_resids'] = preds['y_hat'] - preds['y_actual']"
   ]
  },
  {
   "cell_type": "code",
   "execution_count": 10,
   "id": "927986dc-791a-47c5-8ee1-7bd8be6a1d83",
   "metadata": {},
   "outputs": [],
   "source": [
    "#creating a y_baseline residuals column\n",
    "preds['y_baseline_resids'] = preds['y_baseline'] - preds['y_actual']"
   ]
  },
  {
   "cell_type": "markdown",
   "id": "9d5c9337-ca13-4bd6-9d76-492540cec10b",
   "metadata": {},
   "source": [
    "3) Plot the residuals for the linear regression model that you made."
   ]
  },
  {
   "cell_type": "markdown",
   "id": "d3c72abf-71f3-4a9a-b607-c5148640d1f4",
   "metadata": {},
   "source": [
    "#### baseline"
   ]
  },
  {
   "cell_type": "code",
   "execution_count": 11,
   "id": "896dab47-5e72-4d31-9554-7ba047678a6e",
   "metadata": {},
   "outputs": [
    {
     "data": {
      "image/png": "[encoded data removed]",
      "text/plain": [
       "<Figure size 800x600 with 1 Axes>"
      ]
     },
     "metadata": {},
     "output_type": "display_data"
    }
   ],
   "source": [
    "#creating a scatterplot to visualize y_actual and y_baseline_resids\n",
    "plt.figure(figsize=(8, 6))\n",
    "sns.scatterplot(data=preds, x='y_actual', y='y_baseline_resids')\n",
    "plt.axhline(y=0, color='r', linestyle='--')\n",
    "    \n",
    "# Adding labels and title\n",
    "plt.xlabel(\"Observed Values\")\n",
    "plt.ylabel(\"Residuals\")\n",
    "plt.title(\"Residual Plot\")\n",
    "    \n",
    "# Showing the plot\n",
    "plt.grid(True)\n",
    "plt.show()"
   ]
  },
  {
   "cell_type": "markdown",
   "id": "50e88848-a828-4339-8583-e9f608f607a6",
   "metadata": {},
   "source": [
    "#### model"
   ]
  },
  {
   "cell_type": "code",
   "execution_count": 12,
   "id": "a3e28a8f-9602-4a56-a33b-9c7502a360d2",
   "metadata": {},
   "outputs": [
    {
     "data": {
      "image/png": "[encoded data removed]",
      "text/plain": [
       "<Figure size 800x600 with 1 Axes>"
      ]
     },
     "metadata": {},
     "output_type": "display_data"
    }
   ],
   "source": [
    "#creating a scatterplot to visualize y_actual and y_hat_resids\n",
    "plt.figure(figsize=(8, 6))\n",
    "sns.scatterplot(data=preds, x='y_actual', y='y_hat_resids')\n",
    "plt.axhline(y=0, color='r', linestyle='--')\n",
    "    \n",
    "# Adding labels and title\n",
    "plt.xlabel(\"Observed Values\")\n",
    "plt.ylabel(\"Residuals\")\n",
    "plt.title(\"Residual Plot\")\n",
    "    \n",
    "# Showing the plot\n",
    "plt.grid(True)\n",
    "plt.show()"
   ]
  },
  {
   "cell_type": "markdown",
   "id": "fb60d440-66cc-4684-a0c9-8dae3d8c44f1",
   "metadata": {},
   "source": [
    "4) Calculate the sum of squared errors, explained sum of squares, total sum of squares, mean squared error, and root mean squared error for your model."
   ]
  },
  {
   "cell_type": "code",
   "execution_count": 13,
   "id": "32b3dfbf-0148-485b-b8d6-14d7ab160178",
   "metadata": {},
   "outputs": [],
   "source": [
    "preds['y_hat_resids_sq'] = preds['y_hat_resids'] ** 2"
   ]
  },
  {
   "cell_type": "code",
   "execution_count": 14,
   "id": "71b84e98-94a7-4b3f-9bc7-56512ada42b0",
   "metadata": {},
   "outputs": [],
   "source": [
    "preds['y_hat_minus_mean'] = preds['y_hat'] - preds['y_actual'].mean()"
   ]
  },
  {
   "cell_type": "markdown",
   "id": "19e292c8-a759-456a-8988-db71e064fef8",
   "metadata": {},
   "source": [
    "#### sum of squared errors"
   ]
  },
  {
   "cell_type": "code",
   "execution_count": 15,
   "id": "c83fb60f-8b93-4b30-8ef0-9e134b6d8dbb",
   "metadata": {},
   "outputs": [
    {
     "data": {
      "text/plain": [
       "2.2012980753836256e+17"
      ]
     },
     "execution_count": 15,
     "metadata": {},
     "output_type": "execute_result"
    }
   ],
   "source": [
    "sse_hat = preds['y_hat_resids_sq'].sum()\n",
    "sse_hat"
   ]
  },
  {
   "cell_type": "markdown",
   "id": "e831e806-18b3-4dac-934d-56650227b0b7",
   "metadata": {},
   "source": [
    "#### explained sum of squares"
   ]
  },
  {
   "cell_type": "code",
   "execution_count": 16,
   "id": "05c46f74-4757-42a9-896c-cb6b31001c40",
   "metadata": {},
   "outputs": [
    {
     "data": {
      "text/plain": [
       "8.210738041749333e+16"
      ]
     },
     "execution_count": 16,
     "metadata": {},
     "output_type": "execute_result"
    }
   ],
   "source": [
    "ess_hat = sum(preds['y_hat_minus_mean'] ** 2)\n",
    "ess_hat"
   ]
  },
  {
   "cell_type": "markdown",
   "id": "9491f8c8-e101-4913-b425-ac58bde29f42",
   "metadata": {},
   "source": [
    "#### total sum of squares"
   ]
  },
  {
   "cell_type": "code",
   "execution_count": 17,
   "id": "8940aa9b-8572-4cc4-885f-9d2dc8cfdd83",
   "metadata": {},
   "outputs": [
    {
     "data": {
      "text/plain": [
       "3.022371879558559e+17"
      ]
     },
     "execution_count": 17,
     "metadata": {},
     "output_type": "execute_result"
    }
   ],
   "source": [
    "tss_hat = sse_hat + ess_hat\n",
    "tss_hat"
   ]
  },
  {
   "cell_type": "markdown",
   "id": "311f6906-6917-421c-873b-87fff29c3c58",
   "metadata": {},
   "source": [
    "#### mean squared error"
   ]
  },
  {
   "cell_type": "code",
   "execution_count": 18,
   "id": "f5ad6162-386e-4fa4-bd34-18b736c36753",
   "metadata": {},
   "outputs": [
    {
     "data": {
      "text/plain": [
       "148997303072.92404"
      ]
     },
     "execution_count": 18,
     "metadata": {},
     "output_type": "execute_result"
    }
   ],
   "source": [
    "mse_hat = sse_hat / len(preds)\n",
    "mse_hat"
   ]
  },
  {
   "cell_type": "markdown",
   "id": "9126229d-6813-43d0-b8dc-c4383a4f5519",
   "metadata": {},
   "source": [
    "#### root mean squared error"
   ]
  },
  {
   "cell_type": "code",
   "execution_count": 19,
   "id": "fe0ea8e5-250e-4c27-88e0-494af5bea2ed",
   "metadata": {},
   "outputs": [
    {
     "data": {
      "text/plain": [
       "386001.6879146049"
      ]
     },
     "execution_count": 19,
     "metadata": {},
     "output_type": "execute_result"
    }
   ],
   "source": [
    "rmse_hat = sqrt(mse_hat)\n",
    "rmse_hat"
   ]
  },
  {
   "cell_type": "markdown",
   "id": "d05a8618-df68-4f25-89b6-627e17a46bbe",
   "metadata": {},
   "source": [
    "5) Calculate the sum of squared errors, mean squared error, and root mean squared error for the baseline model (i.e. a model that always predicts the average taxvaluedollarcnt amount)."
   ]
  },
  {
   "cell_type": "code",
   "execution_count": 20,
   "id": "41a46c92-3994-48e8-97d5-4388776bc7fb",
   "metadata": {},
   "outputs": [],
   "source": [
    "preds['y_baseline_resids_sq'] = preds['y_baseline_resids'] ** 2"
   ]
  },
  {
   "cell_type": "markdown",
   "id": "a81405fc-fdaf-4cd8-bdc4-3e8dcf659153",
   "metadata": {},
   "source": [
    "#### sum of squared errors"
   ]
  },
  {
   "cell_type": "code",
   "execution_count": 21,
   "id": "fe626bea-3854-4e0c-8c8e-56ba7e26f021",
   "metadata": {},
   "outputs": [
    {
     "data": {
      "text/plain": [
       "3.1729921373076096e+17"
      ]
     },
     "execution_count": 21,
     "metadata": {},
     "output_type": "execute_result"
    }
   ],
   "source": [
    "sse_baseline = preds['y_baseline_resids_sq'].sum()\n",
    "sse_baseline"
   ]
  },
  {
   "cell_type": "markdown",
   "id": "f44428c7-fb7e-4947-a9aa-731239e80ad0",
   "metadata": {},
   "source": [
    "#### mean squared error"
   ]
  },
  {
   "cell_type": "code",
   "execution_count": 22,
   "id": "5e197f2b-a71f-4843-98a7-d48dce02734e",
   "metadata": {},
   "outputs": [
    {
     "data": {
      "text/plain": [
       "214767493969.68268"
      ]
     },
     "execution_count": 22,
     "metadata": {},
     "output_type": "execute_result"
    }
   ],
   "source": [
    "mse_baseline = sse_baseline / len(preds)\n",
    "mse_baseline"
   ]
  },
  {
   "cell_type": "markdown",
   "id": "ad8b82e1-8fde-4ae0-a546-a26d779876d5",
   "metadata": {},
   "source": [
    "#### root mean squared error"
   ]
  },
  {
   "cell_type": "code",
   "execution_count": 23,
   "id": "3a19f1b2-f560-4ff1-982c-01169cf907d7",
   "metadata": {},
   "outputs": [
    {
     "data": {
      "text/plain": [
       "463430.13925475616"
      ]
     },
     "execution_count": 23,
     "metadata": {},
     "output_type": "execute_result"
    }
   ],
   "source": [
    "rmse_baseline = sqrt(mse_baseline)\n",
    "rmse_baseline"
   ]
  },
  {
   "cell_type": "markdown",
   "id": "b1a0a111-3916-4fad-aeb4-a4b55fbfceb4",
   "metadata": {},
   "source": [
    "6) Write python code that compares the sum of squared errors for your model against the sum of squared errors for the baseline model and outputs whether or not your model performs better than the baseline model."
   ]
  },
  {
   "cell_type": "code",
   "execution_count": 24,
   "id": "f52e1deb-cde7-429a-b8df-9956b103e7c0",
   "metadata": {},
   "outputs": [
    {
     "name": "stdout",
     "output_type": "stream",
     "text": [
      "Sum of Squared Errors (Baseline): 317299213730760960.00\n",
      "Sum of Squared Errors (Your Model): 220129807538362560.00\n",
      "My model performs better than the baseline model in terms of SSE.\n"
     ]
    }
   ],
   "source": [
    "# Determine which model performs better\n",
    "if sse_hat < sse_baseline:\n",
    "    performance = \"better\"\n",
    "else:\n",
    "    performance = \"worse\"\n",
    "print(f\"Sum of Squared Errors (Baseline): {sse_baseline:.2f}\")\n",
    "print(f\"Sum of Squared Errors (Your Model): {sse_hat:.2f}\")\n",
    "print(f\"My model performs {performance} than the baseline model in terms of SSE.\")"
   ]
  },
  {
   "cell_type": "markdown",
   "id": "cbbe2fcb-f337-45e6-ac7b-35314344be7c",
   "metadata": {},
   "source": [
    "7) What is the amount of variance explained in your model?"
   ]
  },
  {
   "cell_type": "code",
   "execution_count": 25,
   "id": "556c1ec7-9dc0-4c51-9b0d-03d3df3f133e",
   "metadata": {},
   "outputs": [
    {
     "data": {
      "text/plain": [
       "0.2716653796735232"
      ]
     },
     "execution_count": 25,
     "metadata": {},
     "output_type": "execute_result"
    }
   ],
   "source": [
    "#model score\n",
    "model_r2 = r2_score(preds['y_actual'], preds['y_hat'])\n",
    "model_r2"
   ]
  },
  {
   "cell_type": "markdown",
   "id": "905aae6e-f821-4376-bd8d-0c590d4c7e44",
   "metadata": {},
   "source": [
    "8) Is your model better than the baseline model?"
   ]
  },
  {
   "cell_type": "code",
   "execution_count": 26,
   "id": "fade641e-631c-4355-8afb-9b0bf6dae22f",
   "metadata": {},
   "outputs": [
    {
     "name": "stdout",
     "output_type": "stream",
     "text": [
      "My model performs better than the baseline model in terms of SSE.\n"
     ]
    }
   ],
   "source": [
    "print(f\"My model performs {performance} than the baseline model in terms of SSE.\")"
   ]
  },
  {
   "cell_type": "markdown",
   "id": "fc4aadf3-2edf-43e3-813b-24f81834d6a8",
   "metadata": {},
   "source": [
    "9) Create a file named evaluate.py that contains the following functions."
   ]
  },
  {
   "cell_type": "markdown",
   "id": "a7018d9f-e3a7-49f3-9f2c-17d7288ae480",
   "metadata": {},
   "source": [
    "#### a)\n",
    "- plot_residuals(y, yhat): creates a residual plot"
   ]
  },
  {
   "cell_type": "code",
   "execution_count": 27,
   "id": "22dec3e1-2e4e-427a-a215-d9d5a688bb3f",
   "metadata": {},
   "outputs": [
    {
     "data": {
      "image/png": "[encoded data removed]",
      "text/plain": [
       "<Figure size 800x600 with 1 Axes>"
      ]
     },
     "metadata": {},
     "output_type": "display_data"
    }
   ],
   "source": [
    "plot_residuals(preds.y_actual, preds.y_hat)"
   ]
  },
  {
   "cell_type": "markdown",
   "id": "94650cd0-f11b-44af-9e00-471a3cf7efd8",
   "metadata": {},
   "source": [
    "#### b)\n",
    "- regression_errors(y, yhat): returns the following values:\n",
    "    - sum of squared errors (SSE)\n",
    "    - explained sum of squares (ESS)\n",
    "    - total sum of squares (TSS)\n",
    "    - mean squared error (MSE)\n",
    "    - root mean squared error (RMSE) "
   ]
  },
  {
   "cell_type": "code",
   "execution_count": 28,
   "id": "5e96bf54-9489-45c7-9a08-2c9130dc4e9f",
   "metadata": {},
   "outputs": [
    {
     "data": {
      "text/plain": [
       "{'SSE': 2.2012980753836256e+17,\n",
       " 'ESS': 8.210738041751819e+16,\n",
       " 'TSS': 3.0223718795584525e+17,\n",
       " 'MSE': 148997303072.92404,\n",
       " 'RMSE': 386001.6879146049}"
      ]
     },
     "execution_count": 28,
     "metadata": {},
     "output_type": "execute_result"
    }
   ],
   "source": [
    "regression_errors(preds.y_actual, preds.y_hat)"
   ]
  },
  {
   "cell_type": "markdown",
   "id": "4468e2d2-d4ef-4573-bb6c-1c14dc933ced",
   "metadata": {},
   "source": [
    "#### c)\n",
    "- baseline_mean_errors(y): computes the SSE, MSE, and RMSE for the baseline model"
   ]
  },
  {
   "cell_type": "code",
   "execution_count": 29,
   "id": "e9615027-7484-4f6a-bd8e-1bce1ed517f3",
   "metadata": {},
   "outputs": [
    {
     "data": {
      "text/plain": [
       "{'SSE': 3.1729921373076096e+17,\n",
       " 'ESS': 10194899293.16469,\n",
       " 'TSS': 3.0223718795584525e+17,\n",
       " 'MSE': 214767493969.68268,\n",
       " 'RMSE': 463430.13925475616}"
      ]
     },
     "execution_count": 29,
     "metadata": {},
     "output_type": "execute_result"
    }
   ],
   "source": [
    "baseline_mean_errors(preds.y_actual)"
   ]
  },
  {
   "cell_type": "markdown",
   "id": "3956556b-bd83-40ed-bf5d-a0a34da1410a",
   "metadata": {},
   "source": [
    "#### d)\n",
    "- better_than_baseline(y, yhat): returns true if your model performs better than the baseline, otherwise false"
   ]
  },
  {
   "cell_type": "code",
   "execution_count": 30,
   "id": "9bc3ccfa-826e-4633-92a7-1bfd3f35d413",
   "metadata": {},
   "outputs": [
    {
     "name": "stdout",
     "output_type": "stream",
     "text": [
      "True\n"
     ]
    }
   ],
   "source": [
    "better_than_baseline(preds.y_actual, preds.y_hat)"
   ]
  }
 ],
 "metadata": {
  "kernelspec": {
   "display_name": "Python 3 (ipykernel)",
   "language": "python",
   "name": "python3"
  },
  "language_info": {
   "codemirror_mode": {
    "name": "ipython",
    "version": 3
   },
   "file_extension": ".py",
   "mimetype": "text/x-python",
   "name": "python",
   "nbconvert_exporter": "python",
   "pygments_lexer": "ipython3",
   "version": "3.10.12"
  }
 },
 "nbformat": 4,
 "nbformat_minor": 5
}
