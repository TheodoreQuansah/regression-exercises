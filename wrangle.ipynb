{
 "cells": [
  {
   "cell_type": "markdown",
   "id": "3f0d7d64-4aa6-43c3-aaee-af4a73322f23",
   "metadata": {},
   "source": [
    "# Acquire and Prep - Wrangle"
   ]
  },
  {
   "cell_type": "code",
   "execution_count": 157,
   "id": "c5522ff2-1919-4fa2-bf0f-3c2d853190e2",
   "metadata": {},
   "outputs": [],
   "source": [
    "import os\n",
    "import numpy as np\n",
    "import pandas as pd\n",
    "\n",
    "import matplotlib.pyplot as plt\n",
    "import seaborn as sns\n",
    "\n",
    "from env import get_connection\n",
    "from wrangle import get_properties_2017"
   ]
  },
  {
   "cell_type": "markdown",
   "id": "322e811d-4faf-4a08-aef2-8f0232a560f5",
   "metadata": {},
   "source": [
    "### Exercise 2"
   ]
  },
  {
   "cell_type": "markdown",
   "id": "147eee79-eeb3-4f6b-a4cc-7e1e6b3ef653",
   "metadata": {},
   "source": [
    "1) Acquire bedroomcnt, bathroomcnt, calculatedfinishedsquarefeet, taxvaluedollarcnt, yearbuilt, taxamount, and fips from the zillow database for all 'Single Family Residential' properties."
   ]
  },
  {
   "cell_type": "code",
   "execution_count": 158,
   "id": "b04f0017-ce1d-47b7-b213-a94c619f3e3b",
   "metadata": {},
   "outputs": [],
   "source": [
    "#importing the get_get_properties_2017 function as df\n",
    "df = get_properties_2017()"
   ]
  },
  {
   "cell_type": "code",
   "execution_count": 159,
   "id": "7d41e340-a1d5-4068-86d5-ffdc76e134ac",
   "metadata": {},
   "outputs": [
    {
     "data": {
      "text/plain": [
       "(2152863, 7)"
      ]
     },
     "execution_count": 159,
     "metadata": {},
     "output_type": "execute_result"
    }
   ],
   "source": [
    "#checking the number of rows and columns\n",
    "df.shape"
   ]
  },
  {
   "cell_type": "markdown",
   "id": "0ee84907-361f-4b86-86ac-015de9792844",
   "metadata": {},
   "source": [
    "2) Using your acquired Zillow data, walk through the summarization and cleaning steps in your wrangle.ipynb file like we did above.   \n",
    "You may handle the missing values however you feel is appropriate and meaningful; remember to document your process and decisions using markdown and code commenting where helpful."
   ]
  },
  {
   "cell_type": "code",
   "execution_count": 160,
   "id": "04cbb424-1a25-46b9-82ba-bb0553e2c35b",
   "metadata": {},
   "outputs": [],
   "source": [
    "df = df.rename(columns = {'bedroomcnt':'bedrooms', 'bathroomcnt':'bathrooms', 'calculatedfinishedsquarefeet':'Squarefeet', 'taxvaluedollarcnt':'tax_value', 'yearbuilt':'year_built'})\n"
   ]
  },
  {
   "cell_type": "code",
   "execution_count": 161,
   "id": "0fd81f1a-8a07-46ab-9d32-df2fe8a1e5ee",
   "metadata": {},
   "outputs": [
    {
     "name": "stdout",
     "output_type": "stream",
     "text": [
      "<class 'pandas.core.frame.DataFrame'>\n",
      "RangeIndex: 2152863 entries, 0 to 2152862\n",
      "Data columns (total 7 columns):\n",
      " #   Column      Dtype  \n",
      "---  ------      -----  \n",
      " 0   bedrooms    float64\n",
      " 1   bathrooms   float64\n",
      " 2   Squarefeet  float64\n",
      " 3   tax_value   float64\n",
      " 4   year_built  float64\n",
      " 5   taxamount   float64\n",
      " 6   fips        float64\n",
      "dtypes: float64(7)\n",
      "memory usage: 115.0 MB\n"
     ]
    }
   ],
   "source": [
    "#checking the data types in my columns\n",
    "df.info()"
   ]
  },
  {
   "cell_type": "markdown",
   "id": "57f20d70-ab11-498c-8186-f64ff56d3ed1",
   "metadata": {},
   "source": [
    "There seems to be a relationship between taxvaluedollarcnt and calculatedfinishedsquarefeet"
   ]
  },
  {
   "cell_type": "code",
   "execution_count": 162,
   "id": "af489266-e5cb-4c43-8240-ad42be154f08",
   "metadata": {},
   "outputs": [
    {
     "data": {
      "text/plain": [
       "bedrooms        11\n",
       "bathrooms       11\n",
       "Squarefeet    8484\n",
       "tax_value      493\n",
       "year_built    9337\n",
       "taxamount     4442\n",
       "fips             0\n",
       "dtype: int64"
      ]
     },
     "execution_count": 162,
     "metadata": {},
     "output_type": "execute_result"
    }
   ],
   "source": [
    "#checking null values\n",
    "df.isna().sum()"
   ]
  },
  {
   "cell_type": "code",
   "execution_count": 163,
   "id": "1e3cbe48-943c-4e5a-bfb3-a2d69b7e7278",
   "metadata": {},
   "outputs": [],
   "source": [
    "#Dropping all nulls\n",
    "df = df.dropna()"
   ]
  },
  {
   "cell_type": "code",
   "execution_count": 164,
   "id": "1c028ab7-ee59-4a6e-8fa4-63c5b5180ea8",
   "metadata": {},
   "outputs": [],
   "source": [
    "#converting all columns to integer\n",
    "df = df.astype(int)"
   ]
  },
  {
   "cell_type": "code",
   "execution_count": 165,
   "id": "26399560-4a45-48c5-afd4-6946a57ea9fe",
   "metadata": {},
   "outputs": [
    {
     "name": "stdout",
     "output_type": "stream",
     "text": [
      "<class 'pandas.core.frame.DataFrame'>\n",
      "Index: 2140235 entries, 4 to 2152862\n",
      "Data columns (total 7 columns):\n",
      " #   Column      Dtype\n",
      "---  ------      -----\n",
      " 0   bedrooms    int64\n",
      " 1   bathrooms   int64\n",
      " 2   Squarefeet  int64\n",
      " 3   tax_value   int64\n",
      " 4   year_built  int64\n",
      " 5   taxamount   int64\n",
      " 6   fips        int64\n",
      "dtypes: int64(7)\n",
      "memory usage: 130.6 MB\n"
     ]
    }
   ],
   "source": [
    "#checking data types and shape\n",
    "df.info()"
   ]
  },
  {
   "cell_type": "markdown",
   "id": "7fff7533-5945-47b4-a2c9-84a304d070b6",
   "metadata": {},
   "source": [
    "3) Store all of the necessary functions to automate your process from acquiring the data to returning a cleaned dataframe with no missing values in your wrangle.py file. Name your final function wrangle_zillow."
   ]
  },
  {
   "cell_type": "code",
   "execution_count": 167,
   "id": "2835fb61-1e93-4f4d-87f5-9f25118bb420",
   "metadata": {},
   "outputs": [],
   "source": [
    "#Aqcuiring the properties_2017 dataset from the zillow data base\n",
    "\n",
    "def get_properties_2017():\n",
    "    # Define the filename for the CSV file\n",
    "    filename = 'properties_2017.csv'\n",
    "    \n",
    "    # Check if the CSV file already exists\n",
    "    if os.path.isfile(filename):\n",
    "        # If the file exists, read it into a DataFrame and return it\n",
    "        return pd.read_csv(filename)\n",
    "    else:\n",
    "        # If the file doesn't exist, define an SQL query to retrieve data\n",
    "        query = '''\n",
    "            SELECT \n",
    "                bedroomcnt,\n",
    "                bathroomcnt,\n",
    "                calculatedfinishedsquarefeet,\n",
    "                taxvaluedollarcnt,\n",
    "                yearbuilt,\n",
    "                taxamount,\n",
    "                fips\n",
    "            FROM\n",
    "                properties_2017\n",
    "            WHERE propertylandusetypeid = 261;\n",
    "        '''\n",
    "        \n",
    "        # Get a connection URL (you may want to define the 'get_connection' function)\n",
    "        url = get_connection('zillow')  # You'll need to define this function\n",
    "        \n",
    "        # Execute the SQL query and read the result into a DataFrame\n",
    "        df = pd.read_sql(query, url)\n",
    "        \n",
    "        # Save the result to a CSV file\n",
    "        df.to_csv(filename, index=False)\n",
    "\n",
    "        # Return the DataFrame\n",
    "        return df"
   ]
  },
  {
   "cell_type": "code",
   "execution_count": 168,
   "id": "50c0c7af-cf0d-4925-ba71-ad9023395b16",
   "metadata": {},
   "outputs": [],
   "source": [
    "#cleaning the properties_2017 dataset\n",
    "\n",
    "def clean_and_convert(df):\n",
    "    # Rename columns\n",
    "    df = df.rename(columns={\n",
    "        'bedroomcnt': 'bedrooms',\n",
    "        'bathroomcnt': 'bathrooms',\n",
    "        'calculatedfinishedsquarefeet': 'Squarefeet',\n",
    "        'taxvaluedollarcnt': 'tax_value',\n",
    "        'yearbuilt': 'year_built'\n",
    "    })\n",
    "\n",
    "    # Drop rows with any null values\n",
    "    df = df.dropna()\n",
    "\n",
    "    # Convert all columns to integers\n",
    "    df = df.astype(int)\n",
    "\n",
    "    return df"
   ]
  },
  {
   "cell_type": "code",
   "execution_count": null,
   "id": "efbf6fe1-f432-48f8-a41e-3403bf8fed03",
   "metadata": {},
   "outputs": [],
   "source": []
  },
  {
   "cell_type": "code",
   "execution_count": null,
   "id": "1ebafe1c-a2bc-4591-bb75-61b8c17cc623",
   "metadata": {},
   "outputs": [],
   "source": []
  },
  {
   "cell_type": "code",
   "execution_count": null,
   "id": "6d31b2c0-453f-4e18-9dac-283008d4a1f7",
   "metadata": {},
   "outputs": [],
   "source": []
  },
  {
   "cell_type": "code",
   "execution_count": null,
   "id": "6d345598-9df6-4bdc-8d98-828c16f61037",
   "metadata": {},
   "outputs": [],
   "source": []
  },
  {
   "cell_type": "code",
   "execution_count": null,
   "id": "0ea2c1c8-a8e2-48d6-90e2-f109de3ab22d",
   "metadata": {},
   "outputs": [],
   "source": []
  },
  {
   "cell_type": "code",
   "execution_count": null,
   "id": "033e9311-64ff-4363-9c93-37e19a05aa6d",
   "metadata": {},
   "outputs": [],
   "source": []
  }
 ],
 "metadata": {
  "kernelspec": {
   "display_name": "Python 3 (ipykernel)",
   "language": "python",
   "name": "python3"
  },
  "language_info": {
   "codemirror_mode": {
    "name": "ipython",
    "version": 3
   },
   "file_extension": ".py",
   "mimetype": "text/x-python",
   "name": "python",
   "nbconvert_exporter": "python",
   "pygments_lexer": "ipython3",
   "version": "3.10.12"
  }
 },
 "nbformat": 4,
 "nbformat_minor": 5
}
